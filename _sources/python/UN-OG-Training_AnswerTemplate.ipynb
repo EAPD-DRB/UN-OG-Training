{
 "cells": [
  {
   "cell_type": "markdown",
   "metadata": {},
   "source": [
    "# UN OG Training: Exercise Answer Template\n",
    "\n",
    "This Notebook is included in the UN OG Training repository as a template for the answers to the exercises. In order to use this Notebook without having Python installed on your local computer, you can simply click on the rocket ship button above and then select Google Colab.  This will open this notebook in [Google Colaboratory](https://colab.research.google.com), where you can execute cells as in any Jupyter Notebook ([basic instructions](https://jupyter-notebook.readthedocs.io/en/stable/examples/Notebook/Notebook%20Basics.html) or use of a Notebook) without needed any local python installation.  You will need a Google account to save this notebook to your Drive."
   ]
  },
  {
   "cell_type": "code",
   "execution_count": 4,
   "metadata": {},
   "outputs": [],
   "source": [
    "%%capture\n",
    "# the capture magic command above is to supress output from pip when\n",
    "# installing ogzaf package\n",
    "# import some packages you'll use in the exercises\n",
    "import numpy as np\n",
    "import pandas as pd\n",
    "import scipy\n",
    "import matplotlib.pyplot as plt\n",
    "!pip install git+https://github.com/EAPD-DRB/OG-ZAF.git\n",
    "import ogzaf  # The OG-ZAF model, from which you will use some functions"
   ]
  },
  {
   "cell_type": "markdown",
   "metadata": {},
   "source": []
  }
 ],
 "metadata": {
  "kernelspec": {
   "display_name": "un-og-training-dev",
   "language": "python",
   "name": "python3"
  },
  "language_info": {
   "codemirror_mode": {
    "name": "ipython",
    "version": 3
   },
   "file_extension": ".py",
   "mimetype": "text/x-python",
   "name": "python",
   "nbconvert_exporter": "python",
   "pygments_lexer": "ipython3",
   "version": "3.12.0"
  }
 },
 "nbformat": 4,
 "nbformat_minor": 2
}
